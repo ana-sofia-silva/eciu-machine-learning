{
 "cells": [
  {
   "cell_type": "markdown",
   "metadata": {},
   "source": [
    "## Loading and Preparing Data"
   ]
  },
  {
   "cell_type": "code",
   "execution_count": 26,
   "metadata": {},
   "outputs": [],
   "source": [
    "import tensorflow.keras as keras\n",
    "import pandas as pd\n",
    "\n",
    "# Load in our data from CSV files\n",
    "train_df = pd.read_csv(\"data/asl_data/sign_mnist_train.csv\")\n",
    "valid_df = pd.read_csv(\"data/asl_data/sign_mnist_valid.csv\")\n",
    "\n",
    "# Separate out our target values\n",
    "y_train = train_df['label']\n",
    "y_valid = valid_df['label']\n",
    "del train_df['label']\n",
    "del valid_df['label']\n",
    "\n",
    "# Separate out our image vectors\n",
    "x_train = train_df.values\n",
    "x_valid = valid_df.values\n",
    "\n",
    "# Turn our scalar targets into binary categories\n",
    "num_classes = 24\n",
    "y_train = keras.utils.to_categorical(y_train, num_classes)\n",
    "y_valid = keras.utils.to_categorical(y_valid, num_classes)\n",
    "\n",
    "# Normalize our image data\n",
    "x_train = x_train / 255\n",
    "x_valid = x_valid / 255"
   ]
  },
  {
   "cell_type": "code",
   "execution_count": 27,
   "metadata": {},
   "outputs": [
    {
     "data": {
      "text/plain": [
       "((27455, 784), (7172, 784))"
      ]
     },
     "execution_count": 27,
     "metadata": {},
     "output_type": "execute_result"
    }
   ],
   "source": [
    "x_train.shape, x_valid.shape"
   ]
  },
  {
   "cell_type": "code",
   "execution_count": 28,
   "metadata": {},
   "outputs": [],
   "source": [
    "x_train = x_train.reshape(-1,28,28,1)\n",
    "x_valid = x_valid.reshape(-1,28,28,1)"
   ]
  },
  {
   "cell_type": "code",
   "execution_count": 29,
   "metadata": {},
   "outputs": [
    {
     "data": {
      "text/plain": [
       "(27455, 28, 28, 1)"
      ]
     },
     "execution_count": 29,
     "metadata": {},
     "output_type": "execute_result"
    }
   ],
   "source": [
    "x_train.shape"
   ]
  },
  {
   "cell_type": "code",
   "execution_count": 30,
   "metadata": {},
   "outputs": [
    {
     "data": {
      "text/plain": [
       "(7172, 28, 28, 1)"
      ]
     },
     "execution_count": 30,
     "metadata": {},
     "output_type": "execute_result"
    }
   ],
   "source": [
    "x_valid.shape"
   ]
  },
  {
   "cell_type": "code",
   "execution_count": 31,
   "metadata": {},
   "outputs": [
    {
     "data": {
      "text/plain": [
       "((27455, 28, 28, 1), (7172, 28, 28, 1))"
      ]
     },
     "execution_count": 31,
     "metadata": {},
     "output_type": "execute_result"
    }
   ],
   "source": [
    "x_train.shape, x_valid.shape"
   ]
  },
  {
   "cell_type": "markdown",
   "metadata": {},
   "source": [
    "## Model Creation"
   ]
  },
  {
   "cell_type": "code",
   "execution_count": 32,
   "metadata": {},
   "outputs": [],
   "source": [
    "from tensorflow.keras.models import Sequential\n",
    "from tensorflow.keras.layers import (\n",
    "    Dense,\n",
    "    Conv2D,\n",
    "    MaxPool2D,\n",
    "    Flatten,\n",
    "    Dropout,\n",
    "    BatchNormalization,\n",
    ")\n",
    "\n",
    "model = Sequential()\n",
    "model.add(Conv2D(75, (3, 3), strides=1, padding=\"same\", activation=\"relu\", \n",
    "                 input_shape=(28, 28, 1)))\n",
    "model.add(BatchNormalization())\n",
    "model.add(MaxPool2D((2, 2), strides=2, padding=\"same\"))\n",
    "model.add(Conv2D(50, (3, 3), strides=1, padding=\"same\", activation=\"relu\"))\n",
    "model.add(Dropout(0.2))\n",
    "model.add(BatchNormalization())\n",
    "model.add(MaxPool2D((2, 2), strides=2, padding=\"same\"))\n",
    "model.add(Conv2D(25, (3, 3), strides=1, padding=\"same\", activation=\"relu\"))\n",
    "model.add(BatchNormalization())\n",
    "model.add(MaxPool2D((2, 2), strides=2, padding=\"same\"))\n",
    "model.add(Flatten())\n",
    "model.add(Dense(units=512, activation=\"relu\"))\n",
    "model.add(Dropout(0.3))\n",
    "model.add(Dense(units=num_classes, activation=\"softmax\"))"
   ]
  },
  {
   "cell_type": "code",
   "execution_count": 33,
   "metadata": {},
   "outputs": [
    {
     "name": "stdout",
     "output_type": "stream",
     "text": [
      "Model: \"sequential_2\"\n",
      "_________________________________________________________________\n",
      "Layer (type)                 Output Shape              Param #   \n",
      "=================================================================\n",
      "conv2d_6 (Conv2D)            (None, 28, 28, 75)        750       \n",
      "_________________________________________________________________\n",
      "batch_normalization_6 (Batch (None, 28, 28, 75)        300       \n",
      "_________________________________________________________________\n",
      "max_pooling2d_6 (MaxPooling2 (None, 14, 14, 75)        0         \n",
      "_________________________________________________________________\n",
      "conv2d_7 (Conv2D)            (None, 14, 14, 50)        33800     \n",
      "_________________________________________________________________\n",
      "dropout_4 (Dropout)          (None, 14, 14, 50)        0         \n",
      "_________________________________________________________________\n",
      "batch_normalization_7 (Batch (None, 14, 14, 50)        200       \n",
      "_________________________________________________________________\n",
      "max_pooling2d_7 (MaxPooling2 (None, 7, 7, 50)          0         \n",
      "_________________________________________________________________\n",
      "conv2d_8 (Conv2D)            (None, 7, 7, 25)          11275     \n",
      "_________________________________________________________________\n",
      "batch_normalization_8 (Batch (None, 7, 7, 25)          100       \n",
      "_________________________________________________________________\n",
      "max_pooling2d_8 (MaxPooling2 (None, 4, 4, 25)          0         \n",
      "_________________________________________________________________\n",
      "flatten_2 (Flatten)          (None, 400)               0         \n",
      "_________________________________________________________________\n",
      "dense_4 (Dense)              (None, 512)               205312    \n",
      "_________________________________________________________________\n",
      "dropout_5 (Dropout)          (None, 512)               0         \n",
      "_________________________________________________________________\n",
      "dense_5 (Dense)              (None, 24)                12312     \n",
      "=================================================================\n",
      "Total params: 264,049\n",
      "Trainable params: 263,749\n",
      "Non-trainable params: 300\n",
      "_________________________________________________________________\n"
     ]
    }
   ],
   "source": [
    "model.summary()"
   ]
  },
  {
   "cell_type": "markdown",
   "metadata": {},
   "source": [
    "## Compiling"
   ]
  },
  {
   "cell_type": "code",
   "execution_count": 34,
   "metadata": {},
   "outputs": [],
   "source": [
    "#Compiling the Model\n",
    "model.compile(loss=\"categorical_crossentropy\", metrics=[\"accuracy\"])"
   ]
  },
  {
   "cell_type": "code",
   "execution_count": 35,
   "metadata": {},
   "outputs": [
    {
     "name": "stdout",
     "output_type": "stream",
     "text": [
      "Epoch 1/20\n",
      "858/858 [==============================] - 5s 6ms/step - loss: 0.3139 - accuracy: 0.9028 - val_loss: 0.6329 - val_accuracy: 0.8402\n",
      "Epoch 2/20\n",
      "858/858 [==============================] - 5s 5ms/step - loss: 0.0238 - accuracy: 0.9932 - val_loss: 0.1676 - val_accuracy: 0.9416\n",
      "Epoch 3/20\n",
      "858/858 [==============================] - 5s 5ms/step - loss: 0.0111 - accuracy: 0.9966 - val_loss: 0.1411 - val_accuracy: 0.9621\n",
      "Epoch 4/20\n",
      "858/858 [==============================] - 5s 5ms/step - loss: 0.0081 - accuracy: 0.9973 - val_loss: 0.3141 - val_accuracy: 0.9194\n",
      "Epoch 5/20\n",
      "858/858 [==============================] - 5s 5ms/step - loss: 0.0075 - accuracy: 0.9980 - val_loss: 0.2449 - val_accuracy: 0.9446\n",
      "Epoch 6/20\n",
      "858/858 [==============================] - 5s 5ms/step - loss: 0.0050 - accuracy: 0.9984 - val_loss: 0.1530 - val_accuracy: 0.9653\n",
      "Epoch 7/20\n",
      "858/858 [==============================] - 5s 5ms/step - loss: 0.0033 - accuracy: 0.9991 - val_loss: 0.2849 - val_accuracy: 0.9391\n",
      "Epoch 8/20\n",
      "858/858 [==============================] - 5s 5ms/step - loss: 0.0030 - accuracy: 0.9993 - val_loss: 0.2160 - val_accuracy: 0.9511\n",
      "Epoch 9/20\n",
      "858/858 [==============================] - 4s 5ms/step - loss: 0.0030 - accuracy: 0.9989 - val_loss: 0.3008 - val_accuracy: 0.9473\n",
      "Epoch 10/20\n",
      "858/858 [==============================] - 5s 5ms/step - loss: 0.0030 - accuracy: 0.9991 - val_loss: 0.1852 - val_accuracy: 0.9604\n",
      "Epoch 11/20\n",
      "858/858 [==============================] - 5s 5ms/step - loss: 0.0036 - accuracy: 0.9991 - val_loss: 0.2133 - val_accuracy: 0.9696\n",
      "Epoch 12/20\n",
      "858/858 [==============================] - 5s 5ms/step - loss: 0.0029 - accuracy: 0.9993 - val_loss: 0.1795 - val_accuracy: 0.9675\n",
      "Epoch 13/20\n",
      "858/858 [==============================] - 5s 5ms/step - loss: 0.0028 - accuracy: 0.9994 - val_loss: 0.2409 - val_accuracy: 0.9626\n",
      "Epoch 14/20\n",
      "858/858 [==============================] - 4s 5ms/step - loss: 0.0019 - accuracy: 0.9996 - val_loss: 0.3405 - val_accuracy: 0.9467\n",
      "Epoch 15/20\n",
      "858/858 [==============================] - 4s 5ms/step - loss: 0.0024 - accuracy: 0.9993 - val_loss: 0.3685 - val_accuracy: 0.9547\n",
      "Epoch 16/20\n",
      "858/858 [==============================] - 5s 5ms/step - loss: 0.0023 - accuracy: 0.9995 - val_loss: 0.3157 - val_accuracy: 0.9637\n",
      "Epoch 17/20\n",
      "858/858 [==============================] - 5s 5ms/step - loss: 0.0031 - accuracy: 0.9996 - val_loss: 0.6057 - val_accuracy: 0.9346\n",
      "Epoch 18/20\n",
      "858/858 [==============================] - 5s 5ms/step - loss: 0.0018 - accuracy: 0.9995 - val_loss: 0.6157 - val_accuracy: 0.9338\n",
      "Epoch 19/20\n",
      "858/858 [==============================] - 5s 5ms/step - loss: 0.0013 - accuracy: 0.9996 - val_loss: 0.3315 - val_accuracy: 0.9518\n",
      "Epoch 20/20\n",
      "858/858 [==============================] - 5s 5ms/step - loss: 4.8364e-04 - accuracy: 0.9999 - val_loss: 0.2027 - val_accuracy: 0.9683\n"
     ]
    }
   ],
   "source": [
    "history = model.fit(x_train, y_train, epochs=20, verbose=1, validation_data=(x_valid, y_valid))"
   ]
  },
  {
   "cell_type": "markdown",
   "metadata": {},
   "source": [
    "## Plot"
   ]
  },
  {
   "cell_type": "code",
   "execution_count": 36,
   "metadata": {},
   "outputs": [
    {
     "data": {
      "image/png": "[encoded data removed]",
      "text/plain": [
       "<Figure size 432x288 with 1 Axes>"
      ]
     },
     "metadata": {
      "needs_background": "light"
     },
     "output_type": "display_data"
    }
   ],
   "source": [
    "import matplotlib.pyplot as plt\n",
    "\n",
    "plt.plot(history.history['accuracy'])\n",
    "plt.plot(history.history['val_accuracy'])\n",
    "plt.title('Model Accuracy')\n",
    "plt.xlabel('Epochs')\n",
    "plt.ylabel('Accuracy')\n",
    "plt.legend(['Training','Validation'], loc = 'upper left')\n",
    "plt.savefig('second.png')\n"
   ]
  }
 ],
 "metadata": {
  "kernelspec": {
   "display_name": "Python 3",
   "language": "python",
   "name": "python3"
  },
  "language_info": {
   "codemirror_mode": {
    "name": "ipython",
    "version": 3
   },
   "file_extension": ".py",
   "mimetype": "text/x-python",
   "name": "python",
   "nbconvert_exporter": "python",
   "pygments_lexer": "ipython3",
   "version": "3.6.9"
  }
 },
 "nbformat": 4,
 "nbformat_minor": 4
}
